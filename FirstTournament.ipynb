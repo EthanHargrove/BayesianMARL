{
 "cells": [
  {
   "cell_type": "code",
   "execution_count": 1,
   "metadata": {},
   "outputs": [
    {
     "name": "stderr",
     "output_type": "stream",
     "text": [
      "/Users/ethanhargrove/Desktop/repos/BayesianMARL/.venv/lib/python3.11/site-packages/dask/dataframe/__init__.py:42: FutureWarning: \n",
      "Dask dataframe query planning is disabled because dask-expr is not installed.\n",
      "\n",
      "You can install it with `pip install dask[dataframe]` or `conda install dask`.\n",
      "This will raise in a future version.\n",
      "\n",
      "  warnings.warn(msg, FutureWarning)\n"
     ]
    }
   ],
   "source": [
    "from BayesianTypeBasedReasoning import BayesianTypeBasedReasoning\n",
    "import axelrod as axl"
   ]
  },
  {
   "cell_type": "code",
   "execution_count": 2,
   "metadata": {},
   "outputs": [],
   "source": [
    "policies = [s for s in axl.axelrod_first_strategies]\n",
    "agent = BayesianTypeBasedReasoning(policies, num_iter=100, depth=5)"
   ]
  },
  {
   "cell_type": "code",
   "execution_count": 3,
   "metadata": {},
   "outputs": [
    {
     "name": "stderr",
     "output_type": "stream",
     "text": [
      "Playing matches: 100%|██████████| 136/136 [6:28:47<00:00, 171.52s/it]   \n",
      "Analysing: 100%|██████████| 25/25 [00:00<00:00, 251.16it/s]\n"
     ]
    },
    {
     "data": {
      "text/plain": [
       "[\"Bayesian Type Based Reasoning: [<class 'axelrod.strategies.titfortat.TitForTat'>, <class 'axelrod.strategies.axelrod_first.FirstByTidemanAndChieruzzi'>, <class 'axelrod.strategies.axelrod_first.FirstByNydegger'>, <class 'axelrod.strategies.axelrod_first.FirstByGrofman'>, <class 'axelrod.strategies.axelrod_first.FirstByShubik'>, <class 'axelrod.strategies.axelrod_first.FirstBySteinAndRapoport'>, <class 'axelrod.strategies.grudger.Grudger'>, <class 'axelrod.strategies.axelrod_first.FirstByDavis'>, <class 'axelrod.strategies.axelrod_first.FirstByGraaskamp'>, <class 'axelrod.strategies.axelrod_first.FirstByDowning'>, <class 'axelrod.strategies.axelrod_first.FirstByFeld'>, <class 'axelrod.strategies.axelrod_first.FirstByJoss'>, <class 'axelrod.strategies.axelrod_first.FirstByTullock'>, <class 'axelrod.strategies.axelrod_first.FirstByAnonymous'>, <class 'axelrod.strategies.rand.Random'>], 0.05, 100, 5\",\n",
       " 'First by Downing',\n",
       " 'First by Davis: 10',\n",
       " 'Tit For Tat',\n",
       " 'First by Joss: 0.9',\n",
       " 'Grudger',\n",
       " 'First by Feld: 1.0, 0.5, 200',\n",
       " 'First by Stein and Rapoport: 0.05: (D, D)',\n",
       " 'First by Tideman and Chieruzzi: (D, D)',\n",
       " 'First by Shubik',\n",
       " 'First by Nydegger',\n",
       " 'First by Grofman',\n",
       " 'First by Graaskamp: 0.05',\n",
       " 'First by Tullock',\n",
       " 'First by Anonymous',\n",
       " 'Random: 0.5']"
      ]
     },
     "execution_count": 3,
     "metadata": {},
     "output_type": "execute_result"
    }
   ],
   "source": [
    "players = [agent] + [s() for s in axl.axelrod_first_strategies]\n",
    "\n",
    "tournament = axl.Tournament(players, noise=0.05, repetitions=1)\n",
    "results = tournament.play()\n",
    "results.ranked_names"
   ]
  },
  {
   "cell_type": "code",
   "execution_count": 4,
   "metadata": {},
   "outputs": [
    {
     "data": {
      "text/plain": [
       "[[7970],\n",
       " [6237],\n",
       " [5917],\n",
       " [5591],\n",
       " [5581],\n",
       " [5791],\n",
       " [6029],\n",
       " [6182],\n",
       " [6285],\n",
       " [5386],\n",
       " [6717],\n",
       " [6171],\n",
       " [6229],\n",
       " [5294],\n",
       " [4940],\n",
       " [4795]]"
      ]
     },
     "execution_count": 4,
     "metadata": {},
     "output_type": "execute_result"
    }
   ],
   "source": [
    "results.scores"
   ]
  },
  {
   "cell_type": "code",
   "execution_count": 5,
   "metadata": {},
   "outputs": [
    {
     "data": {
      "text/plain": [
       "[Player(Rank=0, Name=\"Bayesian Type Based Reasoning: [<class 'axelrod.strategies.titfortat.TitForTat'>, <class 'axelrod.strategies.axelrod_first.FirstByTidemanAndChieruzzi'>, <class 'axelrod.strategies.axelrod_first.FirstByNydegger'>, <class 'axelrod.strategies.axelrod_first.FirstByGrofman'>, <class 'axelrod.strategies.axelrod_first.FirstByShubik'>, <class 'axelrod.strategies.axelrod_first.FirstBySteinAndRapoport'>, <class 'axelrod.strategies.grudger.Grudger'>, <class 'axelrod.strategies.axelrod_first.FirstByDavis'>, <class 'axelrod.strategies.axelrod_first.FirstByGraaskamp'>, <class 'axelrod.strategies.axelrod_first.FirstByDowning'>, <class 'axelrod.strategies.axelrod_first.FirstByFeld'>, <class 'axelrod.strategies.axelrod_first.FirstByJoss'>, <class 'axelrod.strategies.axelrod_first.FirstByTullock'>, <class 'axelrod.strategies.axelrod_first.FirstByAnonymous'>, <class 'axelrod.strategies.rand.Random'>], 0.05, 100, 5\", Median_score=np.float64(2.6566666666666667), Cooperation_rating=0.45266666666666666, Wins=np.float64(7.0), Initial_C_rate=np.float64(0.9333333333333333), CC_rate=0.36266666666666664, CD_rate=0.09, DC_rate=0.2553333333333333, DD_rate=0.29200000000000004, CC_to_C_rate=np.float64(0.7023766308947458), CD_to_C_rate=np.float64(0.5115935432617976), DC_to_C_rate=np.float64(0.4424296536796537), DD_to_C_rate=np.float64(0.26766955382062463)),\n",
       " Player(Rank=1, Name='First by Downing', Median_score=np.float64(2.239), Cooperation_rating=0.35733333333333334, Wins=np.float64(8.0), Initial_C_rate=np.float64(0.0), CC_rate=0.22766666666666663, CD_rate=0.12966666666666668, DC_rate=0.22833333333333336, DD_rate=0.41433333333333333, CC_to_C_rate=np.float64(0.7580454281976531), CD_to_C_rate=np.float64(0.5434984782026505), DC_to_C_rate=np.float64(0.32100348275463436), DD_to_C_rate=np.float64(0.33190717694751765)),\n",
       " Player(Rank=2, Name='First by Davis: 10', Median_score=np.float64(2.095), Cooperation_rating=0.135, Wins=np.float64(12.0), Initial_C_rate=np.float64(1.0), CC_rate=0.08600000000000001, CD_rate=0.049000000000000016, DC_rate=0.24300000000000002, DD_rate=0.622, CC_to_C_rate=np.float64(0.7631133458754942), CD_to_C_rate=np.float64(0.2763756613756614), DC_to_C_rate=np.float64(0.09817025152377847), DD_to_C_rate=np.float64(0.054439869255280396)),\n",
       " Player(Rank=3, Name='Tit For Tat', Median_score=np.float64(2.079), Cooperation_rating=0.4816666666666667, Wins=np.float64(5.0), Initial_C_rate=np.float64(0.9333333333333333), CC_rate=0.33799999999999997, CD_rate=0.14366666666666666, DC_rate=0.1366666666666667, DD_rate=0.3816666666666667, CC_to_C_rate=np.float64(0.9596620739891745), CD_to_C_rate=np.float64(0.06425495509492546), DC_to_C_rate=np.float64(0.9598662271693584), DD_to_C_rate=np.float64(0.05226574384002793)),\n",
       " Player(Rank=4, Name='First by Joss: 0.9', Median_score=np.float64(2.0763333333333334), Cooperation_rating=0.402, Wins=np.float64(8.0), Initial_C_rate=np.float64(1.0), CC_rate=0.271, CD_rate=0.131, DC_rate=0.16633333333333333, DD_rate=0.43166666666666664, CC_to_C_rate=np.float64(0.8645951579133955), CD_to_C_rate=np.float64(0.04920895072739078), DC_to_C_rate=np.float64(0.8650997981605398), DD_to_C_rate=np.float64(0.06044725476885574)),\n",
       " Player(Rank=5, Name='Grudger', Median_score=np.float64(2.0606666666666666), Cooperation_rating=0.079, Wins=np.float64(14.0), Initial_C_rate=np.float64(1.0), CC_rate=0.03899999999999999, CD_rate=0.04, DC_rate=0.2556666666666666, DD_rate=0.6653333333333333, CC_to_C_rate=np.float64(0.6132371855197941), CD_to_C_rate=np.float64(0.1696825396825397), DC_to_C_rate=np.float64(0.08252718180106858), DD_to_C_rate=np.float64(0.05126486672495633)),\n",
       " Player(Rank=6, Name='First by Feld: 1.0, 0.5, 200', Median_score=np.float64(2.057), Cooperation_rating=0.341, Wins=np.float64(10.0), Initial_C_rate=np.float64(0.8666666666666667), CC_rate=0.21400000000000002, CD_rate=0.12700000000000003, DC_rate=0.18900000000000003, DD_rate=0.4699999999999999, CC_to_C_rate=np.float64(0.826993911399136), CD_to_C_rate=np.float64(0.07122004806787416), DC_to_C_rate=np.float64(0.7657419122956881), DD_to_C_rate=np.float64(0.07020117532552547)),\n",
       " Player(Rank=7, Name='First by Stein and Rapoport: 0.05: (D, D)', Median_score=np.float64(2.0096666666666665), Cooperation_rating=0.32666666666666666, Wins=np.float64(7.0), Initial_C_rate=np.float64(1.0), CC_rate=0.21700000000000003, CD_rate=0.10966666666666665, DC_rate=0.1713333333333333, DD_rate=0.502, CC_to_C_rate=np.float64(0.8742532714400414), CD_to_C_rate=np.float64(0.1327179300687365), DC_to_C_rate=np.float64(0.7161904013693803), DD_to_C_rate=np.float64(0.07105209813147889)),\n",
       " Player(Rank=8, Name='First by Tideman and Chieruzzi: (D, D)', Median_score=np.float64(1.9723333333333335), Cooperation_rating=0.31033333333333335, Wins=np.float64(12.0), Initial_C_rate=np.float64(1.0), CC_rate=0.22399999999999998, CD_rate=0.08633333333333333, DC_rate=0.15266666666666667, DD_rate=0.537, CC_to_C_rate=np.float64(0.8821424307247009), CD_to_C_rate=np.float64(0.15683595961628), DC_to_C_rate=np.float64(0.4671372951950987), DD_to_C_rate=np.float64(0.0554803809693299)),\n",
       " Player(Rank=9, Name='First by Shubik', Median_score=np.float64(1.9303333333333332), Cooperation_rating=0.257, Wins=np.float64(10.0), Initial_C_rate=np.float64(1.0), CC_rate=0.14733333333333334, CD_rate=0.10966666666666669, DC_rate=0.18633333333333335, DD_rate=0.5566666666666666, CC_to_C_rate=np.float64(0.8830616514805156), CD_to_C_rate=np.float64(0.06311583678023007), DC_to_C_rate=np.float64(0.21356487936396543), DD_to_C_rate=np.float64(0.15263465553638764)),\n",
       " Player(Rank=10, Name='First by Nydegger', Median_score=np.float64(1.8636666666666666), Cooperation_rating=0.899, Wins=np.float64(1.0), Initial_C_rate=np.float64(1.0), CC_rate=0.5133333333333333, CD_rate=0.38566666666666666, DC_rate=0.05566666666666666, DD_rate=0.04533333333333333, CC_to_C_rate=np.float64(0.8971128853163263), CD_to_C_rate=np.float64(0.8947950990997994), DC_to_C_rate=np.float64(0.7476239842029316), DD_to_C_rate=np.float64(0.6714377731769036)),\n",
       " Player(Rank=11, Name='First by Grofman', Median_score=np.float64(1.8603333333333334), Cooperation_rating=0.6653333333333333, Wins=np.float64(2.0), Initial_C_rate=np.float64(0.9333333333333333), CC_rate=0.3383333333333333, CD_rate=0.327, DC_rate=0.12766666666666668, DD_rate=0.207, CC_to_C_rate=np.float64(0.9255504736542548), CD_to_C_rate=np.float64(0.3189643993197292), DC_to_C_rate=np.float64(0.3191962954012774), DD_to_C_rate=np.float64(0.9475718709722902)),\n",
       " Player(Rank=12, Name='First by Graaskamp: 0.05', Median_score=np.float64(1.7953333333333332), Cooperation_rating=0.464, Wins=np.float64(8.0), Initial_C_rate=np.float64(1.0), CC_rate=0.22866666666666666, CD_rate=0.2353333333333333, DC_rate=0.14333333333333334, DD_rate=0.39266666666666666, CC_to_C_rate=np.float64(0.839338580236413), CD_to_C_rate=np.float64(0.5120886249579663), DC_to_C_rate=np.float64(0.6522742083368113), DD_to_C_rate=np.float64(0.2756755511335957)),\n",
       " Player(Rank=13, Name='First by Tullock', Median_score=np.float64(1.7646666666666666), Cooperation_rating=0.288, Wins=np.float64(10.0), Initial_C_rate=np.float64(0.9333333333333333), CC_rate=0.17, CD_rate=0.11800000000000004, DC_rate=0.13566666666666669, DD_rate=0.5763333333333333, CC_to_C_rate=np.float64(0.6987642200744185), CD_to_C_rate=np.float64(0.4119554722948498), DC_to_C_rate=np.float64(0.33216953418881956), DD_to_C_rate=np.float64(0.17814440813813182)),\n",
       " Player(Rank=14, Name='First by Anonymous', Median_score=np.float64(1.6466666666666667), Cooperation_rating=0.5076666666666667, Wins=np.float64(3.0), Initial_C_rate=np.float64(0.2), CC_rate=0.16566666666666666, CD_rate=0.342, DC_rate=0.16433333333333333, DD_rate=0.32799999999999996, CC_to_C_rate=np.float64(0.47409517321293687), CD_to_C_rate=np.float64(0.518329037818605), DC_to_C_rate=np.float64(0.49899864743366196), DD_to_C_rate=np.float64(0.5218674717961455)),\n",
       " Player(Rank=15, Name='Random: 0.5', Median_score=np.float64(1.5983333333333334), Cooperation_rating=0.5036666666666667, Wins=np.float64(3.0), Initial_C_rate=np.float64(0.5333333333333333), CC_rate=0.16333333333333333, CD_rate=0.3403333333333333, DC_rate=0.15299999999999997, DD_rate=0.3433333333333333, CC_to_C_rate=np.float64(0.5719380741677532), CD_to_C_rate=np.float64(0.5047193654249141), DC_to_C_rate=np.float64(0.5077110113795812), DD_to_C_rate=np.float64(0.49499180558499645))]"
      ]
     },
     "execution_count": 5,
     "metadata": {},
     "output_type": "execute_result"
    }
   ],
   "source": [
    "results.summarise()"
   ]
  },
  {
   "cell_type": "code",
   "execution_count": 6,
   "metadata": {},
   "outputs": [],
   "source": [
    "results.write_summary('first_tournament_noisy.csv')"
   ]
  }
 ],
 "metadata": {
  "kernelspec": {
   "display_name": ".venv",
   "language": "python",
   "name": "python3"
  },
  "language_info": {
   "codemirror_mode": {
    "name": "ipython",
    "version": 3
   },
   "file_extension": ".py",
   "mimetype": "text/x-python",
   "name": "python",
   "nbconvert_exporter": "python",
   "pygments_lexer": "ipython3",
   "version": "3.11.9"
  }
 },
 "nbformat": 4,
 "nbformat_minor": 2
}
